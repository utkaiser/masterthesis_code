{
 "cells": [
  {
   "cell_type": "code",
   "execution_count": 7,
   "outputs": [],
   "source": [
    "import generate_data.WaveUtil as WaveUtil\n",
    "import generate_data.wave2 as wave2\n",
    "import generate_data.WavePostprocess as wp\n",
    "from skimage.transform import resize\n",
    "import numpy as np\n",
    "import matplotlib.pyplot as plt\n",
    "%matplotlib inline\n",
    "\n",
    "params = {'legend.fontsize': 'xx-large',\n",
    "          'figure.figsize': (8, 6),\n",
    "         'axes.labelsize': 'xx-large',\n",
    "         'axes.titlesize':'xx-large',\n",
    "         'xtick.labelsize':'xx-large',\n",
    "         'ytick.labelsize':'xx-large'}\n",
    "plt.rcParams.update(params)\n",
    "plt.rcParams['font.size'] = '14'"
   ],
   "metadata": {
    "collapsed": false
   }
  },
  {
   "cell_type": "code",
   "execution_count": 8,
   "metadata": {},
   "outputs": [
    {
     "name": "stdout",
     "output_type": "stream",
     "text": [
      "unet 3lvl number of trainable parameters 2560008\n",
      "tiramisu 55-55 number of trainable parameters 691283\n"
     ]
    }
   ],
   "source": [
    "# set up models\n",
    "import torch\n",
    "import models.tiramisu as tiramisu\n",
    "import models.unet as unet\n",
    "import old_code.unet_Linear as unet2\n",
    "\n",
    "#unet model setup\n",
    "#unet_model = unet.UNet(wf=1, depth=3, scale_factor=2)\n",
    "unet_model = unet2.UNet(depth=6, wf=1, acti_func='relu', scale_factor=2)\n",
    "#unet_model = torch.nn.DataParallel(unet_model)\n",
    "unet_model.load_state_dict(torch.load('../results/run_1/saved_model_unet128_9b.pt'))\n",
    "unet_model.eval()\n",
    "unet_model = unet_model.double()\n",
    "\n",
    "#tiramisu model setup\n",
    "tir_model = tiramisu.FCDenseNet(scale_factor=4)\n",
    "tir_model = torch.nn.DataParallel(tir_model)\n",
    "#tir_model = unet2.UNet(depth=6, wf=1, acti_func='relu')\n",
    "tir_model.load_state_dict(torch.load('../results/run_1/saved_model_tiramisu256_1.pt'))\n",
    "tir_model.eval()\n",
    "tir_model = tir_model.double()\n",
    "\n",
    "netlist = [\n",
    "    (r'unet 3lvl', unet_model),\n",
    "    (r'tiramisu 55-55', tir_model)\n",
    "]\n",
    "\n",
    "for netname,netmodl in netlist:\n",
    "    model_parameters = filter(lambda p: p.requires_grad, netmodl.parameters())\n",
    "    params = sum([np.prod(p.size()) for p in model_parameters])\n",
    "    print(netname,'number of trainable parameters', params)"
   ]
  },
  {
   "cell_type": "code",
   "execution_count": 9,
   "metadata": {},
   "outputs": [],
   "source": [
    "# parameter setup\n",
    "\n",
    "Tf = 2.0\n",
    "cT = 0.2\n",
    "dx = 1.0/128.0 #1.0/128.0  # -> 256\n",
    "dt = dx / 20\n",
    "Ny, Nx = 256, 256\n",
    "ny, nx = 64, 64\n",
    "m = 4 #2\n",
    "rt = 4\n",
    "mt = round(Tf/cT)\n",
    "t = np.linspace(0,Tf,mt)\n",
    "xx, yy = np.meshgrid(np.linspace(-1, 1, Nx), np.linspace(-1, 1, Ny))\n",
    "\n",
    "np.random.seed = 21\n",
    "#center = np.array([0.,0.])\n",
    "# center_1 = np.array([-.4,-.4])\n",
    "# u0_1 = np.exp(-250.0*(0.2*(xx-center_1[0])**2 + (yy-center_1[1])**2))*np.cos(8*np.pi*(yy-center_1[1]))\n",
    "center_2 = np.array([.4,.4])\n",
    "u0_2 = np.exp(-250.0*(0.2*(xx-center_2[0])**2 + (yy-center_2[1])**2))*np.cos(8*np.pi*(yy-center_2[1]))\n",
    "u0 = u0_2\n",
    "# u0 = np.exp(-250.0*(0.2*(xx-center[0])**2 + (yy-center[1])**2))*np.cos(8*np.pi*(yy-center[1]))\n",
    "ut0 = np.zeros([np.size(xx,axis=1),np.size(yy,axis=0)])\n",
    "vel = 1. + 0.0*yy #- 0.5*(np.abs(yy+xx-0.)>0.4) + 0.*(np.abs(xx-0.4)<0.2)*(np.abs(yy-0.5)<0.1) #np.ones([np.size(xx,axis=1),np.size(yy,axis=0)]) #fig9 vel\n",
    "\n",
    "# def four_layers(x, y):\n",
    "#     res = x + np.pi / 3.1 * y\n",
    "#     if res < -1:\n",
    "#         return .2\n",
    "#     elif res < 0:\n",
    "#         return .6\n",
    "#     elif res < 1:\n",
    "#         return .8\n",
    "#     else:\n",
    "#         return 1\n",
    "#\n",
    "# # four layers velocity\n",
    "# dim = 128\n",
    "# v_x = np.linspace(-1, 1, num=dim)\n",
    "# v_y = np.linspace(-1, 1, num=dim)\n",
    "# z = np.array([four_layers(i, j) for j in v_y for i in v_x])\n",
    "# Z = np.array(z).reshape(dim, dim)\n",
    "# vel = Z\n",
    "\n",
    "veltest = (\n",
    "    #('waveguide',3. - 0.3*np.cos(np.pi*xx)),\\\n",
    "   #('inclusion',3.-0.5*(np.abs(xx-0.4)<0.2)*(np.abs(yy-0.5)<0.1)+0.5*(np.abs(xx-0.2)<0.2)*(np.abs(yy-0.3)<0.1) + 0.1*yy),\\\n",
    "   #('bp',gaussian_filter(resize(databp['V'][:,1300:3211],[128,128]),sigma=0)/1000),\\\n",
    "   #('marmousi',gaussian_filter(resize(datamarm['marm1smal'],[128,128]),sigma=0)/4),\\\n",
    "   ('refrac',vel),\n",
    "    #('four layers', vel),\n",
    ")"
   ]
  },
  {
   "cell_type": "code",
   "execution_count": 10,
   "outputs": [
    {
     "data": {
      "text/plain": "array([[-3.48981404e-256, -1.04313107e-255, -3.09887403e-255, ...,\n        -4.89514406e-221, -3.08602141e-221, -1.93357418e-221],\n       [-9.35052396e-254, -2.79494035e-253, -8.30304868e-253, ...,\n        -1.31159315e-218, -8.26861168e-219, -5.18077224e-219],\n       [-2.31656432e-251, -6.92438104e-251, -2.05705546e-250, ...,\n        -3.24943277e-216, -2.04852379e-216, -1.28352081e-216],\n       ...,\n       [-1.22082218e-080, -3.64912724e-080, -1.08406182e-079, ...,\n        -1.71244095e-045, -1.07956566e-045, -6.76411471e-046],\n       [-1.58200612e-081, -4.72873258e-081, -1.40478479e-080, ...,\n        -2.21907178e-046, -1.39895843e-046, -8.76529852e-047],\n       [-1.82219582e-082, -5.44667726e-082, -1.61806768e-081, ...,\n        -2.55598464e-047, -1.61135672e-047, -1.00960990e-047]])"
     },
     "execution_count": 10,
     "metadata": {},
     "output_type": "execute_result"
    }
   ],
   "source": [
    "u0"
   ],
   "metadata": {
    "collapsed": false
   }
  },
  {
   "cell_type": "code",
   "execution_count": 15,
   "metadata": {
    "scrolled": false
   },
   "outputs": [],
   "source": [
    "for velname, vel in veltest:\n",
    "\n",
    "    #### Fine solution ####\n",
    "    uf = np.zeros([xx.shape[0],xx.shape[1],mt])\n",
    "    utf = np.zeros([xx.shape[0],xx.shape[1],mt])\n",
    "    uf[:,:,0] = u0\n",
    "    utf[:,:,0] = ut0\n",
    "    for j in range(1,mt):\n",
    "        uf[:,:,j],utf[:,:,j] = wave2.wave2s(uf[:,:,j-1],utf[:,:,j-1],vel,dx,dt,cT)\n",
    "\n",
    "    # #### Coarse solution ####\n",
    "    # ucc = np.zeros([xx.shape[0],xx.shape[1],mt])\n",
    "    # utcc = np.zeros([xx.shape[0],xx.shape[1],mt])\n",
    "    # ucc[:,:,0] = u0\n",
    "    # utcc[:,:,0] = ut0\n",
    "    # uc = resize(ucc[:,:,0],[ny,nx],order=4)\n",
    "    # utc = resize(utcc[:,:,0],[ny,nx],order=4)\n",
    "    # velc = resize(vel,[ny,nx],order=4)\n",
    "    #\n",
    "    # for j in range(1,mt):\n",
    "    #     uc, utc = wave2.velocity_verlet_time_integrator(uc,utc,velc,dx*m,dt*rt,cT)\n",
    "    #     ucc[:,:,j] = resize(uc,[xx.shape[0],xx.shape[1]],order=4)\n",
    "    #     utcc[:,:,j] = resize(utc,[xx.shape[0],xx.shape[1]],order=4)\n",
    "    #\n",
    "    # #### UNet solution ####\n",
    "    # unn1 = np.zeros([xx.shape[0],xx.shape[1],mt])\n",
    "    # utnn1 = np.zeros([xx.shape[0],xx.shape[1],mt])\n",
    "    # unn1[:,:,0] = u0\n",
    "    # utnn1[:,:,0] = ut0\n",
    "    # for j in range(1,mt):\n",
    "    #     uc,utc = wave2.velocity_verlet_time_integrator(resize(unn1[:,:,j-1],[ny,nx],order=4),\n",
    "    #                          resize(utnn1[:,:,j-1],[ny,nx],order=4),\n",
    "    #                          resize(vel,[ny,nx],order=4),dx*m,dt*rt,cT)\n",
    "    #     unn1[:,:,j],utnn1[:,:,j] = wp.ApplyJNet2WaveSol(uc,utc,vel,dx,unet_model,m)\n",
    "    #\n",
    "    # #### Tiramisu solution ####\n",
    "    # unn2 = np.zeros([xx.shape[0],xx.shape[1],mt])\n",
    "    # utnn2 = np.zeros([xx.shape[0],xx.shape[1],mt])\n",
    "    # unn2[:,:,0] = u0\n",
    "    # utnn2[:,:,0] = ut0\n",
    "    # for j in range(1,mt):\n",
    "    #     uc,utc = wave2.velocity_verlet_time_integrator(resize(unn2[:,:,j-1],[ny,nx],order=4),\n",
    "    #                          resize(utnn2[:,:,j-1],[ny,nx],order=4),\n",
    "    #                          resize(vel,[ny,nx],order=4),dx*m,dt*rt,cT)\n",
    "    #\n",
    "    #     unn2[:,:,j],utnn2[:,:,j] = wp.ApplyJNet2WaveSol(uc,utc,vel,dx,tir_model,m)"
   ]
  },
  {
   "cell_type": "code",
   "execution_count": 16,
   "metadata": {},
   "outputs": [
    {
     "data": {
      "text/plain": "<matplotlib.colorbar.Colorbar at 0x7f7f48861e10>"
     },
     "execution_count": 16,
     "metadata": {},
     "output_type": "execute_result"
    },
    {
     "data": {
      "text/plain": "<Figure size 1152x1368 with 6 Axes>",
      "image/png": "[encoded data removed]"
     },
     "metadata": {
      "needs_background": "light"
     },
     "output_type": "display_data"
    }
   ],
   "source": [
    "tj = 4\n",
    "fig1 = plt.figure(figsize=(16,19))\n",
    "\n",
    "ax1 = fig1.add_subplot(3,2,1)\n",
    "pos1 = ax1.imshow(vel,extent=(-1,1,-1,1))\n",
    "ax1.set_title('velocity', fontsize=20)\n",
    "plt.xticks([-1,1])\n",
    "plt.yticks([-1,1])\n",
    "plt.colorbar(pos1)\n",
    "\n",
    "ax2 = fig1.add_subplot(3,2,2)\n",
    "pos2 = ax2.imshow(u0,extent=(-1,1,-1,1))\n",
    "ax2.set_title('init. condition', fontsize=20)\n",
    "plt.xticks([-1,1])\n",
    "plt.yticks([-1,1])\n",
    "plt.colorbar(pos2)\n",
    "\n",
    "ax3 = fig1.add_subplot(3,2,3)\n",
    "pos3 = ax3.imshow(WaveUtil.WaveEnergyField(uf[:,:,tj],utf[:,:,tj],vel,dx)*dx*dx,vmax=0.005,extent=(-1,1,-1,1))\n",
    "ax3.set_title('fine ' + str(uf[:,:,tj].shape), fontsize=20)\n",
    "plt.xticks([-1,1])\n",
    "plt.yticks([-1,1])\n",
    "plt.plot([.5,.5],[.5,-.5],'w',linewidth=4)\n",
    "plt.plot([-.5,-.5],[-.5,.5],'w',linewidth=4)\n",
    "plt.plot([-.5,.5],[.5,.5],'w',linewidth=4)\n",
    "plt.plot([.5,-.5],[-.5,-.5],'w',linewidth=4)\n",
    "plt.colorbar(pos1,ticks = [0,0.002,0.005])\n",
    "\n",
    "# ax4 = fig1.add_subplot(3,2,4)\n",
    "# pos4 = ax4.imshow(WaveUtil.WaveEnergyField(ucc[:,:,tj],utcc[:,:,tj],vel,dx)*dx*dx,vmax=.005,extent=(-1,1,-1,1))\n",
    "# ax4.set_title('coarse', fontsize=20)\n",
    "# plt.xticks([-1,1])\n",
    "# plt.yticks([-1,1])\n",
    "# plt.plot([-0.5,0.4],[0.45,0.85],'r',linewidth=4)\n",
    "# plt.plot([0.,0.],[0.,0.4],'w',linewidth=4)\n",
    "# plt.plot([0.,-0.2],[0.4,0.84],'w',linewidth=4)\n",
    "# plt.colorbar(pos4,ticks = [0,0.002,0.005])\n",
    "#\n",
    "# ax5 = fig1.add_subplot(3,2,5)\n",
    "# pos5 = ax5.imshow(WaveUtil.WaveEnergyField(unn1[:,:,tj],utnn1[:,:,tj],vel,dx)*dx*dx,vmax=.005,extent=(-1,1,-1,1))\n",
    "# ax5.set_title(r'unet 6lvl $\\Delta t^*=0.2 256^2$', fontsize=20)\n",
    "# plt.xticks([-1,1])\n",
    "# plt.yticks([-1,1])\n",
    "# plt.plot([-0.5,0.4],[0.45,0.85],'r',linewidth=4)\n",
    "# plt.plot([0.,0.],[0.,0.4],'w',linewidth=4)\n",
    "# plt.plot([0.,-0.2],[0.4,0.84],'w',linewidth=4)\n",
    "# plt.colorbar(pos5,ticks = [0,0.002,0.005])\n",
    "#\n",
    "# ax6 = fig1.add_subplot(3,2,6)\n",
    "# pos6 = ax6.imshow(WaveUtil.WaveEnergyField(unn2[:,:,tj],utnn2[:,:,tj],vel,dx)*dx*dx,vmax=0.005,extent=(-1,1,-1,1))\n",
    "# ax6.set_title(r'tiramisu $\\Delta t^*=0.2$ 256^2', fontsize=20)\n",
    "# plt.xticks([-1,1])\n",
    "# plt.yticks([-1,1])\n",
    "# plt.plot([-0.5,0.4],[0.45,0.85],'r',linewidth=4)\n",
    "# plt.plot([0.,0.],[0.,0.4],'w',linewidth=4)\n",
    "# plt.plot([0.,-0.2],[0.4,0.84],'w',linewidth=4)\n",
    "# plt.colorbar(pos6, ticks = [0,0.002,0.005])"
   ]
  },
  {
   "cell_type": "code",
   "execution_count": null,
   "outputs": [],
   "source": [],
   "metadata": {
    "collapsed": false
   }
  },
  {
   "cell_type": "code",
   "execution_count": null,
   "outputs": [],
   "source": [],
   "metadata": {
    "collapsed": false
   }
  },
  {
   "cell_type": "code",
   "execution_count": null,
   "outputs": [],
   "source": [],
   "metadata": {
    "collapsed": false
   }
  },
  {
   "cell_type": "code",
   "execution_count": null,
   "outputs": [],
   "source": [],
   "metadata": {
    "collapsed": false
   }
  },
  {
   "cell_type": "code",
   "execution_count": 34,
   "outputs": [
    {
     "name": "stdout",
     "output_type": "stream",
     "text": [
      "0 0.0 0.0\n",
      "1 2.222971015433661e-07 8.832149092691034e-08\n",
      "2 3.5725409319420366e-07 1.933508016532087e-07\n",
      "3 3.45963532253423e-07 2.7905050801818685e-07\n",
      "4 4.0802250862262545e-07 3.63439314263032e-07\n",
      "5 4.1783613977965456e-07 3.973962301699262e-07\n",
      "6 3.9512275344292934e-07 3.887815867524507e-07\n",
      "7 3.65186823515949e-07 3.6404253018210757e-07\n"
     ]
    }
   ],
   "source": [
    "# compare wave energy norm errors:\n",
    "\n",
    "from sklearn.metrics import mean_squared_error\n",
    "\n",
    "for it in range(8):\n",
    "    wf = WaveUtil.WaveEnergyField(uf[:,:,it], utf[:,:,it], vel, dx)*dx*dx\n",
    "    w1 = WaveUtil.WaveEnergyField(unn1[:,:,it], utnn1[:,:,it], vel, dx)*dx*dx\n",
    "    w2 = WaveUtil.WaveEnergyField(unn2[:,:,it], utnn2[:,:,it], vel, dx)*dx*dx\n",
    "\n",
    "    mse1 = mean_squared_error(wf, w1)\n",
    "    mse2 = mean_squared_error(wf, w2)\n",
    "\n",
    "    print(it, mse1, mse2)"
   ],
   "metadata": {
    "collapsed": false
   }
  },
  {
   "cell_type": "code",
   "execution_count": null,
   "outputs": [],
   "source": [
    "'''\n",
    "tiramisu128_10 outperforms unet128_9a with way less tuning parameters\n",
    "training unet_128_9a and unet_128_9b is stable, and gives very similar results\n",
    "\n",
    "tiramisu256_1 outperforms unet256_10 with way less tuning parameters, but similar training time (3x as much parameters)\n",
    "'''"
   ],
   "metadata": {
    "collapsed": false
   }
  },
  {
   "cell_type": "code",
   "execution_count": null,
   "metadata": {},
   "outputs": [],
   "source": []
  }
 ],
 "metadata": {
  "kernelspec": {
   "display_name": "Python 3",
   "language": "python",
   "name": "python3"
  },
  "language_info": {
   "codemirror_mode": {
    "name": "ipython",
    "version": 3
   },
   "file_extension": ".py",
   "mimetype": "text/x-python",
   "name": "python",
   "nbconvert_exporter": "python",
   "pygments_lexer": "ipython3",
   "version": "3.6.13"
  }
 },
 "nbformat": 4,
 "nbformat_minor": 2
}
