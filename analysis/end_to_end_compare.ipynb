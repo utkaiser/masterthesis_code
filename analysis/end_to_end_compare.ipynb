{
 "cells": [
  {
   "cell_type": "markdown",
   "source": [
    "metrics to compare:\n",
    "- speed in ms per delta t timestep (fine solver vs end to end) -> scale that to big resolution and say we save x amount of time\n",
    "- MSE, MAE for each snapshot\n",
    "- generalization (marmousi and bp dataset, but then own, easier velocities)"
   ],
   "metadata": {
    "collapsed": false
   }
  },
  {
   "cell_type": "code",
   "execution_count": 1,
   "outputs": [],
   "source": [
    "from generate_data import wave_util\n",
    "import torch\n",
    "import numpy as np\n",
    "import matplotlib.pyplot as plt\n",
    "from models import model_end_to_end\n",
    "from skimage.transform import resize\n",
    "from models.model_utils import fetch_data_end_to_end\n",
    "from generate_data.wave_propagation import velocity_verlet_tensor, pseudo_spectral, velocity_verlet\n",
    "from models.model_utils import get_paths, get_params\n",
    "import torch.nn.functional as F"
   ],
   "metadata": {
    "collapsed": false
   }
  },
  {
   "cell_type": "code",
   "execution_count": 2,
   "outputs": [
    {
     "name": "stdout",
     "output_type": "stream",
     "text": [
      "param settings: batch_size: 1, lr: 0.001, res_scaler: 2, n_epochs: 500, model_name: end_to_end_only_unet3lvl, model_res: 128, coarse_res: 64.0, n_snaps: 11, flipping: False, boundary_c: absorbing, total_time: 0.6, delta_t_star: 0.06, f_delta_x: 0.015625, f_delta_t: 0.00078125, c_delta_x: 0.03125, c_delta_t: 0.0026041666666666665\n",
      "test data points: 10\n"
     ]
    }
   ],
   "source": [
    "#params\n",
    "param_dict = get_params(\"0\")\n",
    "batch_size, lr, res_scaler, n_epochs, model_name, Nx, flipping, boundary_c, delta_t_star, f_delta_x = \\\n",
    "        param_dict[\"batch_size\"], param_dict[\"lr\"], param_dict[\"res_scaler\"], param_dict[\"n_epochs\"],param_dict[\"model_name\"],param_dict[\"model_res\"],param_dict[\"flipping\"],param_dict[\"boundary_c\"],param_dict[\"delta_t_star\"],param_dict[\"f_delta_x\"]\n",
    "n_snaps = param_dict[\"n_snaps\"]\n",
    "dt = param_dict[\"f_delta_t\"]\n",
    "f_delta_t = param_dict[\"f_delta_t\"]\n",
    "dx = param_dict[\"f_delta_x\"]\n",
    "dT = param_dict[\"c_delta_t\"]\n",
    "dX = param_dict[\"c_delta_x\"]\n",
    "c_Nx = c_Ny = int(Nx) // int(res_scaler)\n",
    "\n",
    "data_paths, train_logger_path, valid_logger_path, dir_path_save, _ = get_paths()\n",
    "loaders = fetch_data_end_to_end(data_paths, shuffle=True, batch_size=1)"
   ],
   "metadata": {
    "collapsed": false
   }
  },
  {
   "cell_type": "code",
   "execution_count": 3,
   "outputs": [
    {
     "ename": "RuntimeError",
     "evalue": "Error(s) in loading state_dict for DataParallel:\n\tsize mismatch for module.phys_comp_restr_layer1.restr.0.weight: copying a param with shape torch.Size([4, 2, 3, 3]) from checkpoint, the shape in current model is torch.Size([4, 1, 3, 3]).\n\tsize mismatch for module.phys_comp_restr_layer2.restr.0.weight: copying a param with shape torch.Size([8, 4, 3, 3]) from checkpoint, the shape in current model is torch.Size([8, 2, 3, 3]).\n\tsize mismatch for module.phys_comp_restr_layer3.restr.0.weight: copying a param with shape torch.Size([8, 8, 3, 3]) from checkpoint, the shape in current model is torch.Size([8, 4, 3, 3]).\n\tsize mismatch for module.phys_comp_restr_layer4.restr.0.weight: copying a param with shape torch.Size([16, 8, 3, 3]) from checkpoint, the shape in current model is torch.Size([16, 4, 3, 3]).\n\tsize mismatch for module.phys_comp_restr_layer5.restr.0.weight: copying a param with shape torch.Size([16, 16, 3, 3]) from checkpoint, the shape in current model is torch.Size([16, 8, 3, 3]).\n\tsize mismatch for module.phys_comp_restr_layer6.restr.0.weight: copying a param with shape torch.Size([8, 16, 3, 3]) from checkpoint, the shape in current model is torch.Size([8, 8, 3, 3]).\n\tsize mismatch for module.phys_comp_restr_layer7.restr.0.weight: copying a param with shape torch.Size([4, 8, 3, 3]) from checkpoint, the shape in current model is torch.Size([4, 4, 3, 3]).\n\tsize mismatch for module.phys_comp_restr_layer8.restr.0.weight: copying a param with shape torch.Size([2, 4, 3, 3]) from checkpoint, the shape in current model is torch.Size([2, 2, 3, 3]).\n\tsize mismatch for module.vel_restr_layer8.restr.0.weight: copying a param with shape torch.Size([2, 2, 3, 3]) from checkpoint, the shape in current model is torch.Size([1, 2, 3, 3]).\n\tsize mismatch for module.vel_restr_layer8.restr.0.bias: copying a param with shape torch.Size([2]) from checkpoint, the shape in current model is torch.Size([1]).",
     "output_type": "error",
     "traceback": [
      "\u001B[0;31m---------------------------------------------------------------------------\u001B[0m",
      "\u001B[0;31mRuntimeError\u001B[0m                              Traceback (most recent call last)",
      "\u001B[0;32m<ipython-input-3-b111efb9d23d>\u001B[0m in \u001B[0;36m<module>\u001B[0;34m\u001B[0m\n\u001B[1;32m      3\u001B[0m \u001B[0mrestr_model1\u001B[0m \u001B[0;34m=\u001B[0m \u001B[0mmodel_end_to_end\u001B[0m\u001B[0;34m.\u001B[0m\u001B[0mRestriction_nn\u001B[0m\u001B[0;34m(\u001B[0m\u001B[0mparam_dict\u001B[0m \u001B[0;34m=\u001B[0m \u001B[0mparam_dict\u001B[0m\u001B[0;34m)\u001B[0m\u001B[0;34m.\u001B[0m\u001B[0mdouble\u001B[0m\u001B[0;34m(\u001B[0m\u001B[0;34m)\u001B[0m\u001B[0;34m\u001B[0m\u001B[0m\n\u001B[1;32m      4\u001B[0m \u001B[0mrestr_model1\u001B[0m \u001B[0;34m=\u001B[0m \u001B[0mtorch\u001B[0m\u001B[0;34m.\u001B[0m\u001B[0mnn\u001B[0m\u001B[0;34m.\u001B[0m\u001B[0mDataParallel\u001B[0m\u001B[0;34m(\u001B[0m\u001B[0mrestr_model1\u001B[0m\u001B[0;34m)\u001B[0m\u001B[0;34m\u001B[0m\u001B[0m\n\u001B[0;32m----> 5\u001B[0;31m \u001B[0mrestr_model1\u001B[0m\u001B[0;34m.\u001B[0m\u001B[0mload_state_dict\u001B[0m\u001B[0;34m(\u001B[0m\u001B[0mtorch\u001B[0m\u001B[0;34m.\u001B[0m\u001B[0mload\u001B[0m\u001B[0;34m(\u001B[0m\u001B[0;34m'../results/run_2/1/saved_model_end_to_end_only_unet3lvl128_9.pt'\u001B[0m\u001B[0;34m)\u001B[0m\u001B[0;34m)\u001B[0m\u001B[0;34m\u001B[0m\u001B[0m\n\u001B[0m\u001B[1;32m      6\u001B[0m \u001B[0;34m\u001B[0m\u001B[0m\n\u001B[1;32m      7\u001B[0m netlist = [\n",
      "\u001B[0;32m/Library/Frameworks/Python.framework/Versions/3.6/lib/python3.6/site-packages/torch/nn/modules/module.py\u001B[0m in \u001B[0;36mload_state_dict\u001B[0;34m(self, state_dict, strict)\u001B[0m\n\u001B[1;32m   1481\u001B[0m         \u001B[0;32mif\u001B[0m \u001B[0mlen\u001B[0m\u001B[0;34m(\u001B[0m\u001B[0merror_msgs\u001B[0m\u001B[0;34m)\u001B[0m \u001B[0;34m>\u001B[0m \u001B[0;36m0\u001B[0m\u001B[0;34m:\u001B[0m\u001B[0;34m\u001B[0m\u001B[0m\n\u001B[1;32m   1482\u001B[0m             raise RuntimeError('Error(s) in loading state_dict for {}:\\n\\t{}'.format(\n\u001B[0;32m-> 1483\u001B[0;31m                                self.__class__.__name__, \"\\n\\t\".join(error_msgs)))\n\u001B[0m\u001B[1;32m   1484\u001B[0m         \u001B[0;32mreturn\u001B[0m \u001B[0m_IncompatibleKeys\u001B[0m\u001B[0;34m(\u001B[0m\u001B[0mmissing_keys\u001B[0m\u001B[0;34m,\u001B[0m \u001B[0munexpected_keys\u001B[0m\u001B[0;34m)\u001B[0m\u001B[0;34m\u001B[0m\u001B[0m\n\u001B[1;32m   1485\u001B[0m \u001B[0;34m\u001B[0m\u001B[0m\n",
      "\u001B[0;31mRuntimeError\u001B[0m: Error(s) in loading state_dict for DataParallel:\n\tsize mismatch for module.phys_comp_restr_layer1.restr.0.weight: copying a param with shape torch.Size([4, 2, 3, 3]) from checkpoint, the shape in current model is torch.Size([4, 1, 3, 3]).\n\tsize mismatch for module.phys_comp_restr_layer2.restr.0.weight: copying a param with shape torch.Size([8, 4, 3, 3]) from checkpoint, the shape in current model is torch.Size([8, 2, 3, 3]).\n\tsize mismatch for module.phys_comp_restr_layer3.restr.0.weight: copying a param with shape torch.Size([8, 8, 3, 3]) from checkpoint, the shape in current model is torch.Size([8, 4, 3, 3]).\n\tsize mismatch for module.phys_comp_restr_layer4.restr.0.weight: copying a param with shape torch.Size([16, 8, 3, 3]) from checkpoint, the shape in current model is torch.Size([16, 4, 3, 3]).\n\tsize mismatch for module.phys_comp_restr_layer5.restr.0.weight: copying a param with shape torch.Size([16, 16, 3, 3]) from checkpoint, the shape in current model is torch.Size([16, 8, 3, 3]).\n\tsize mismatch for module.phys_comp_restr_layer6.restr.0.weight: copying a param with shape torch.Size([8, 16, 3, 3]) from checkpoint, the shape in current model is torch.Size([8, 8, 3, 3]).\n\tsize mismatch for module.phys_comp_restr_layer7.restr.0.weight: copying a param with shape torch.Size([4, 8, 3, 3]) from checkpoint, the shape in current model is torch.Size([4, 4, 3, 3]).\n\tsize mismatch for module.phys_comp_restr_layer8.restr.0.weight: copying a param with shape torch.Size([2, 4, 3, 3]) from checkpoint, the shape in current model is torch.Size([2, 2, 3, 3]).\n\tsize mismatch for module.vel_restr_layer8.restr.0.weight: copying a param with shape torch.Size([2, 2, 3, 3]) from checkpoint, the shape in current model is torch.Size([1, 2, 3, 3]).\n\tsize mismatch for module.vel_restr_layer8.restr.0.bias: copying a param with shape torch.Size([2]) from checkpoint, the shape in current model is torch.Size([1])."
     ]
    }
   ],
   "source": [
    "# set up models\n",
    "\n",
    "restr_model1 = model_end_to_end.Restriction_nn(param_dict = param_dict).double()\n",
    "restr_model1 = torch.nn.DataParallel(restr_model1)\n",
    "restr_model1.load_state_dict(torch.load('../results/run_2/1/saved_model_end_to_end_only_unet3lvl128_9.pt'))\n",
    "\n",
    "netlist = [\n",
    "    (r'end-to-end unet 3lvl', restr_model1),\n",
    "]\n",
    "\n",
    "for netname,netmodl in netlist:\n",
    "    model_parameters = filter(lambda p: p.requires_grad, netmodl.parameters())\n",
    "    params = sum([np.prod(p.size()) for p in model_parameters])\n",
    "    print(netname,'number of trainable parameters', params)"
   ],
   "metadata": {
    "collapsed": false
   }
  },
  {
   "cell_type": "code",
   "execution_count": null,
   "outputs": [],
   "source": [
    "x = np.arange(-1,1,dx)\n",
    "y = np.arange(-1,1,dx)\n",
    "xx,yy = np.meshgrid(x,y)"
   ],
   "metadata": {
    "collapsed": false
   }
  },
  {
   "cell_type": "code",
   "execution_count": null,
   "outputs": [],
   "source": [
    "uc, utc = np.zeros([n_snaps-1,Nx,Nx]), np.zeros([n_snaps-1,Nx,Nx])\n",
    "uf, utf = np.zeros([n_snaps-1,Nx,Nx]), np.zeros([n_snaps-1,Nx,Nx])\n",
    "uo, uto = np.zeros([n_snaps-1,Nx,Nx]), np.zeros([n_snaps-1,Nx,Nx])\n",
    "\n",
    "with torch.no_grad():\n",
    "    for loader in loaders:\n",
    "        for i, data in enumerate(loader):\n",
    "\n",
    "            input = data[0].squeeze() # n_snaps x 4 x w x h\n",
    "            fig = plt.figure(figsize=(35,8))\n",
    "\n",
    "            #initial condition visualization\n",
    "            vel = torch.from_numpy(1. + 0.0*yy - 0.5*(np.abs(yy+xx-0.)>0.4) + 0.*(np.abs(xx-0.4)<0.2)*(np.abs(yy-0.5)<0.1))\n",
    "            #vel = input[0, 3, :, :]#torch.from_numpy()\n",
    "            vel_c = resize(vel, [64,64], order=4)\n",
    "            vel_c = torch.from_numpy(vel_c)\n",
    "            center = np.array([0.,0.])\n",
    "            u0 = torch.from_numpy(np.exp(-250.0*(0.2*(xx-center[0])**2 + (yy-center[1])**2))*np.cos(8*np.pi*(yy-center[1])))\n",
    "            ut0 = torch.from_numpy(np.zeros([np.size(xx,axis=1),np.size(yy,axis=0)]))\n",
    "            u_x, u_y, u_t_c = wave_util.WaveEnergyComponentField_tensor(u0.unsqueeze(dim=0), ut0.unsqueeze(dim=0), vel.unsqueeze(dim=0),f_delta_x)\n",
    "            #u_x, u_y, u_t_c = input[0, 0, :, :], input[0, 1, :, :], input[0, 2, :, :]\n",
    "            sumv = torch.sum(torch.sum(u_x))\n",
    "            u, ut = wave_util.WaveSol_from_EnergyComponent_tensor(u_x, u_y, u_t_c, vel.unsqueeze(dim=0), f_delta_x, sumv)\n",
    "\n",
    "            axi = fig.add_subplot(3,11,1)\n",
    "            posi = axi.imshow(wave_util.WaveEnergyField_tensor(u.squeeze(),ut.squeeze(),vel,f_delta_x)*f_delta_x*f_delta_x)\n",
    "            axi.set_title('init condition', fontsize=10)\n",
    "            plt.colorbar(posi)\n",
    "            plt.axis('off')\n",
    "\n",
    "            # velocity visualization\n",
    "            axv = fig.add_subplot(3,11,12)\n",
    "            posv = axv.imshow(vel)\n",
    "            plt.colorbar(posv)\n",
    "            axv.set_title('velocity', fontsize=10)\n",
    "            plt.axis('off')\n",
    "\n",
    "            # # fine solver iteration\n",
    "            # for j in range(1,input.shape[0]-1):\n",
    "            #     u_x, u_y, u_t_c = input[j, 0, :, :], input[j, 1, :, :], input[j, 2, :, :]  # w x h\n",
    "            #     sumv = torch.sum(torch.sum(u_x))\n",
    "            #     u, ut = wave_util.WaveSol_from_EnergyComponent_tensor(u_x.unsqueeze(dim=0), u_y.unsqueeze(dim=0), u_t_c.unsqueeze(dim=0), vel.unsqueeze(dim=0), f_delta_x, sumv)\n",
    "            #     uf[j-1,:,:],utf[j-1,:,:] = u.squeeze(), ut.squeeze()\n",
    "            #     ax = fig.add_subplot(3,11,1+j)\n",
    "            #     pos = ax.imshow(wave_util.WaveEnergyField_tensor(u.squeeze(),ut.squeeze(),vel,f_delta_x)*f_delta_x*f_delta_x)\n",
    "            #     ax.set_title('it '+str(j)+' pseudo spectral', fontsize=10)\n",
    "            #     plt.colorbar(pos)\n",
    "            #     plt.axis('off')\n",
    "\n",
    "            ufx, ufcx = u.clone(), ut.clone()\n",
    "            vel_numpy = vel.numpy()\n",
    "            for j in range(1,input.shape[0]-1):\n",
    "                if j == 1: ufx, ufcx = ufx.squeeze().numpy(), ufcx.squeeze().numpy()\n",
    "                ufx, ufcx = pseudo_spectral(ufx, ufcx, vel_numpy, dx, dt, delta_t_star)#, number=1, boundary_c=\"absorbing\")#boundary_c)\n",
    "                ax = fig.add_subplot(3,11,1+j)\n",
    "                pos = ax.imshow(wave_util.WaveEnergyField(ufx,ufcx,vel_numpy,f_delta_x)*f_delta_x*f_delta_x)\n",
    "                ax.set_title('it '+str(j)+' pseudo spectral', fontsize=10)\n",
    "                plt.colorbar(pos)\n",
    "                plt.axis('off')\n",
    "\n",
    "            # coarse solver\n",
    "            ucx, utcx = u.clone(), ut.clone()\n",
    "            ucx, utcx = ucx.squeeze(), utcx.squeeze()\n",
    "            for j in range(1,input.shape[0]-1):\n",
    "                ucx, utcx = torch.from_numpy(resize(ucx, [c_Nx,c_Nx], order=4)), torch.from_numpy(resize(utcx, [c_Nx,c_Nx], order=4))\n",
    "                ucx, utcx = velocity_verlet_tensor(\n",
    "                    ucx.unsqueeze(dim=0), utcx.unsqueeze(dim=0),\n",
    "                    vel_c.unsqueeze(dim=0), dX, dT, delta_t_star, number=1, boundary_c=boundary_c\n",
    "                )\n",
    "                ucx, utcx = ucx.squeeze(), utcx.squeeze()\n",
    "                ucx, utcx = torch.from_numpy(resize(ucx, [Nx,Nx], order=4)), torch.from_numpy(resize(utcx, [Nx,Nx], order=4))\n",
    "                uc[j-1,:,:],utc[j-1,:,:]  = ucx, utcx\n",
    "                ax2 = fig.add_subplot(3,11,12+j)\n",
    "                ax2.set_title('it '+str(j)+' velocity verlet', fontsize=10)\n",
    "                pos2 = ax2.imshow(wave_util.WaveEnergyField_tensor(ucx, utcx, vel, dx) * dx * dx)\n",
    "                plt.colorbar(pos2)\n",
    "                plt.axis('off')\n",
    "\n",
    "            #end to end\n",
    "            u_x_e, u_y_e, u_t_c_e = u_x.clone(), u_y.clone(), u_t_c.clone()\n",
    "            for j in range(1,input.shape[0]-1):\n",
    "                input_model = torch.stack([u_x_e, u_y_e, u_t_c_e, vel.unsqueeze(dim=0)],dim=1)\n",
    "                output = restr_model1(input_model)  # b x 3 x w x h\n",
    "                u_x_e, u_y_e, u_t_c_e = output[:,0, :, :].clone(), output[:,1, :, :].clone(), output[:,2, :,:].clone()\n",
    "                sumv = torch.sum(torch.sum(u_x_e))\n",
    "                u_e, ut_e = wave_util.WaveSol_from_EnergyComponent_tensor(u_x_e, u_y_e, u_t_c_e, vel, f_delta_x, sumv)\n",
    "\n",
    "                uo[j-1,:,:], uto[j-1,:,:] = u_e.squeeze(), ut_e.squeeze()\n",
    "                ax3 = fig.add_subplot(3,11,23+j)\n",
    "                pos3 = ax3.imshow(wave_util.WaveEnergyField_tensor(u_e.squeeze(), ut_e.squeeze(), vel, f_delta_x) * f_delta_x * f_delta_x)\n",
    "                ax3.set_title('it ' + str(j) + ' end to end', fontsize=10)\n",
    "                plt.colorbar(pos3)\n",
    "                plt.axis('off')\n",
    "\n",
    "            break\n",
    "        break"
   ],
   "metadata": {
    "collapsed": false
   }
  },
  {
   "cell_type": "code",
   "execution_count": 4,
   "outputs": [],
   "source": [],
   "metadata": {
    "collapsed": false
   }
  },
  {
   "cell_type": "code",
   "execution_count": null,
   "outputs": [],
   "source": [],
   "metadata": {
    "collapsed": false
   }
  },
  {
   "cell_type": "code",
   "execution_count": null,
   "outputs": [],
   "source": [],
   "metadata": {
    "collapsed": false
   }
  },
  {
   "cell_type": "code",
   "execution_count": null,
   "outputs": [],
   "source": [],
   "metadata": {
    "collapsed": false
   }
  },
  {
   "cell_type": "code",
   "execution_count": null,
   "outputs": [],
   "source": [],
   "metadata": {
    "collapsed": false
   }
  },
  {
   "cell_type": "code",
   "execution_count": null,
   "outputs": [],
   "source": [],
   "metadata": {
    "collapsed": false
   }
  },
  {
   "cell_type": "code",
   "execution_count": null,
   "outputs": [],
   "source": [],
   "metadata": {
    "collapsed": false
   }
  },
  {
   "cell_type": "code",
   "execution_count": 21,
   "outputs": [
    {
     "name": "stdout",
     "output_type": "stream",
     "text": [
      "compare fine solver result to implementation:\n",
      "╒════════════╤══════════════╤══════════════════╤══════════════╤══════════════════╕\n",
      "│   snapshot │   MSE coarse │   MSE end to end │   MAE coarse │   MAE end to end │\n",
      "╞════════════╪══════════════╪══════════════════╪══════════════╪══════════════════╡\n",
      "│          0 │  7.34363e-07 │      1.14674e-07 │  0.000126625 │      4.94801e-05 │\n",
      "├────────────┼──────────────┼──────────────────┼──────────────┼──────────────────┤\n",
      "│          1 │  5.90717e-07 │      1.07917e-07 │  0.000183858 │      7.31814e-05 │\n",
      "├────────────┼──────────────┼──────────────────┼──────────────┼──────────────────┤\n",
      "│          2 │  4.6535e-07  │      1.08346e-07 │  0.000207308 │      8.78103e-05 │\n",
      "├────────────┼──────────────┼──────────────────┼──────────────┼──────────────────┤\n",
      "│          3 │  4.08329e-07 │      1.1793e-07  │  0.000217532 │      9.42303e-05 │\n",
      "├────────────┼──────────────┼──────────────────┼──────────────┼──────────────────┤\n",
      "│          4 │  2.37913e-07 │      7.83742e-08 │  0.000173707 │      7.61874e-05 │\n",
      "├────────────┼──────────────┼──────────────────┼──────────────┼──────────────────┤\n",
      "│          5 │  1.54243e-07 │      6.26009e-08 │  0.000130606 │      6.19342e-05 │\n",
      "├────────────┼──────────────┼──────────────────┼──────────────┼──────────────────┤\n",
      "│          6 │  1.22238e-07 │      5.96733e-08 │  9.85356e-05 │      5.27833e-05 │\n",
      "├────────────┼──────────────┼──────────────────┼──────────────┼──────────────────┤\n",
      "│          7 │  1.14024e-07 │      6.38484e-08 │  7.17343e-05 │      4.1081e-05  │\n",
      "├────────────┼──────────────┼──────────────────┼──────────────┼──────────────────┤\n",
      "│          8 │  8.40994e-09 │      1.6901e-09  │  2.94689e-05 │      1.29112e-05 │\n",
      "├────────────┼──────────────┼──────────────────┼──────────────┼──────────────────┤\n",
      "│          9 │  2.64494e-09 │      5.142e-10   │  1.80989e-05 │      8.57208e-06 │\n",
      "╘════════════╧══════════════╧══════════════════╧══════════════╧══════════════════╛\n"
     ]
    }
   ],
   "source": [
    "# compare wave energy norm errors:\n",
    "\n",
    "from sklearn.metrics import mean_squared_error, mean_absolute_error\n",
    "from tabulate import tabulate\n",
    "\n",
    "table = [[\"snapshot\", \"MSE coarse\", \"MSE end to end\", \"MAE coarse\", \"MAE end to end\"]]\n",
    "\n",
    "for it in range(0,10):\n",
    "    wf = wave_util.WaveEnergyField(uf[it,:,:], utf[it,:,:], vel.numpy(), f_delta_x)*f_delta_x*f_delta_x\n",
    "    w1 = wave_util.WaveEnergyField(uc[it,:,:], utc[it,:,:], vel.numpy(), f_delta_x)*f_delta_x*f_delta_x\n",
    "    w2 = wave_util.WaveEnergyField(uo[it,:,:], uto[it,:,:], vel.numpy(), f_delta_x)*f_delta_x*f_delta_x\n",
    "\n",
    "    mse1 = mean_squared_error(wf, w1)\n",
    "    mse2 = mean_squared_error(wf, w2)\n",
    "\n",
    "    mae1 = mean_absolute_error(wf, w1)\n",
    "    mae2 = mean_absolute_error(wf, w2)\n",
    "\n",
    "    table.append([it, mse1, mse2, mae1,mae2])\n",
    "\n",
    "print(\"compare fine solver result to implementation:\")\n",
    "print(tabulate(table, headers='firstrow', tablefmt='fancy_grid'))"
   ],
   "metadata": {
    "collapsed": false
   }
  },
  {
   "cell_type": "code",
   "execution_count": null,
   "outputs": [],
   "source": [],
   "metadata": {
    "collapsed": false
   }
  }
 ],
 "metadata": {
  "kernelspec": {
   "display_name": "Python 3",
   "language": "python",
   "name": "python3"
  },
  "language_info": {
   "codemirror_mode": {
    "name": "ipython",
    "version": 3
   },
   "file_extension": ".py",
   "mimetype": "text/x-python",
   "name": "python",
   "nbconvert_exporter": "python",
   "pygments_lexer": "ipython3",
   "version": "3.6.13"
  }
 },
 "nbformat": 4,
 "nbformat_minor": 2
}
