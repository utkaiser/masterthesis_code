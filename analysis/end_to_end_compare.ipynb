{
 "cells": [
  {
   "cell_type": "code",
   "execution_count": 20,
   "outputs": [],
   "source": [
    "from generate_data import wave_util\n",
    "from generate_data import wave_propagation\n",
    "import torch\n",
    "from skimage.transform import resize\n",
    "import numpy as np\n",
    "import matplotlib.pyplot as plt\n",
    "from models import model_end_to_end, model_unet\n",
    "from generate_data.wave_util import WaveEnergyComponentField_tensor"
   ],
   "metadata": {
    "collapsed": false
   }
  },
  {
   "cell_type": "code",
   "execution_count": null,
   "outputs": [],
   "source": [
    "''''\n",
    "metrics to compare:\n",
    "- speed in ms per delta t timestep (fine solver vs end to end) -> scale that to big resolution and say we save x amount of time\n",
    "- MSE, MAE for each snapshot\n",
    "- generalization (marmousi and bp dataset, but then own, easier velocities)\n",
    "'''"
   ],
   "metadata": {
    "collapsed": false
   }
  },
  {
   "cell_type": "code",
   "execution_count": null,
   "outputs": [],
   "source": [
    "#TODO: change to torch, add other models, add mse mae, and so on"
   ],
   "metadata": {
    "collapsed": false
   }
  },
  {
   "cell_type": "code",
   "execution_count": 32,
   "outputs": [],
   "source": [
    "#params\n",
    "boundary_c = 'absorbing'\n",
    "dx = 2.0/128.0\n",
    "dt = dx/20\n",
    "dX = dx * 2\n",
    "dT = dt * 4\n",
    "delta_t_star = .07\n",
    "T = .7\n",
    "scaler = 2\n",
    "np.random.seed = 21\n",
    "n_snaps = 10\n",
    "Nx,Ny = 128, 128"
   ],
   "metadata": {
    "collapsed": false
   }
  },
  {
   "cell_type": "code",
   "execution_count": 33,
   "outputs": [
    {
     "name": "stdout",
     "output_type": "stream",
     "text": [
      "end-to-end unet 3lvl number of trainable parameters 44883\n",
      "unet 3lvl number of trainable parameters 40008\n"
     ]
    }
   ],
   "source": [
    "# set up models\n",
    "\n",
    "restr_model1 = model_end_to_end.Restriction_nn(res_scaler=scaler,boundary_c=boundary_c).double()\n",
    "# restr_model1 = torch.nn.DataParallel(restr_model1)\n",
    "restr_model1.load_state_dict(torch.load('../results/run_2/saved_model_end_to_end_unet128_5.pt'))\n",
    "restr_model1.eval()\n",
    "\n",
    "unet_model2 = model_unet.UNet(depth=3, wf=1, acti_func='relu', scale_factor=2).double()\n",
    "unet_model2 = torch.nn.DataParallel(unet_model2)\n",
    "unet_model2.load_state_dict(torch.load('../results/run_1/saved_model_unet3_64_128_9.pt'))\n",
    "unet_model2.eval()\n",
    "\n",
    "netlist = [\n",
    "    (r'end-to-end unet 3lvl', restr_model1),\n",
    "    (r'unet 3lvl', unet_model2)\n",
    "]\n",
    "\n",
    "for netname,netmodl in netlist:\n",
    "    model_parameters = filter(lambda p: p.requires_grad, netmodl.parameters())\n",
    "    params = sum([np.prod(p.size()) for p in model_parameters])\n",
    "    print(netname,'number of trainable parameters', params)"
   ],
   "metadata": {
    "collapsed": false
   }
  },
  {
   "cell_type": "code",
   "execution_count": 37,
   "outputs": [],
   "source": [
    "# velocity and initial pulse\n",
    "\n",
    "x = np.arange(-1,1,dx)\n",
    "y = np.arange(-1,1,dx)\n",
    "xx,yy = np.meshgrid(x,y)\n",
    "\n",
    "center = np.array([0.,0.])\n",
    "# center_1 = np.array([-0.8,-0.8])\n",
    "# u0_1 = np.exp(-250.0*(0.2*(xx-center_1[0])**2 + (yy-center_1[1])**2))*np.cos(8*np.pi*(yy-center_1[1]))\n",
    "# center_2 = np.array([.8,.8])\n",
    "# u0_2 = np.exp(-250.0*(0.2*(xx-center_2[0])**2 + (yy-center_2[1])**2))*np.cos(8*np.pi*(yy-center_2[1]))\n",
    "# u0 = u0_1 + u0_2\n",
    "u0 = np.exp(-250.0*(0.2*(xx-center[0])**2 + (yy-center[1])**2))*np.cos(8*np.pi*(yy-center[1]))\n",
    "ut0 = np.zeros([Nx,Ny])\n",
    "vel = 1. + 0.0*yy #- 0.5*(np.abs(yy+xx-0.)>0.4) + 0.*(np.abs(xx-0.4)<0.2)*(np.abs(yy-0.5)<0.1) # #fig9 velnp.ones([Nx,Ny]) #"
   ],
   "metadata": {
    "collapsed": false
   }
  },
  {
   "cell_type": "code",
   "execution_count": 38,
   "outputs": [],
   "source": [
    "# propagation\n",
    "\n",
    "# fine solution\n",
    "uf = np.zeros([Nx,Ny,n_snaps])\n",
    "utf = np.zeros([Nx,Ny,n_snaps])\n",
    "uf[:,:,0] = u0\n",
    "utf[:,:,0] = ut0\n",
    "for j in range(1,n_snaps):\n",
    "    uf[:,:,j],utf[:,:,j] = wave_propagation.velocity_verlet(uf[:,:,j-1],utf[:,:,j-1],vel,dx,dt,delta_t_star)\n",
    "#\n",
    "# # coarse\n",
    "# ucc = np.zeros([Nx,xx.shape[1],n_snaps])\n",
    "# utcc = np.zeros([Nx,xx.shape[1],n_snaps])\n",
    "# ucc[:,:,0] = u0\n",
    "# utcc[:,:,0] = ut0\n",
    "# uc = resize(ucc[:,:,0],[Nx,Ny],order=4)\n",
    "# utc = resize(utcc[:,:,0],[Nx,Ny],order=4)\n",
    "# velc = resize(vel,[Nx,Ny],order=4)\n",
    "# for j in range(1,n_snaps):\n",
    "#     uc, utc = wave_propagation.velocity_verlet(uc,utc,velc,dX,dT,delta_t_star)\n",
    "#     ucc[:,:,j] = resize(uc,[Nx,Ny],order=4)\n",
    "#     utcc[:,:,j] = resize(utc,[Nx,Ny],order=4)\n",
    "\n",
    "# unet_model2\n",
    "\n",
    "# unn2 = torch.zeros([Nx,Ny,n_snaps])\n",
    "# utnn2 = torch.zeros([Nx,Ny,n_snaps])\n",
    "# unn2[:,:,0] = u0\n",
    "# utnn2[:,:,0] = ut0\n",
    "# for j in range(1,n_snaps):\n",
    "#     a,b,c = WaveEnergyComponentField_tensor(unn2[:,:,j-1].unsqueeze(dim=0),utnn2[:,:,j-1].unsqueeze(dim=0),vel.unsqueeze(dim=0), dx)\n",
    "#     res = restr_model1(torch.stack((a.double(),b.double(),c.double(),vel.unsqueeze(dim=0).double()),dim=1))\n",
    "#     unn2[:,:,j],utnn2[:,:,j] = res[0,0,:,:], res[0,1,:,:]"
   ],
   "metadata": {
    "collapsed": false
   }
  },
  {
   "cell_type": "code",
   "execution_count": 39,
   "outputs": [
    {
     "data": {
      "text/plain": "<matplotlib.colorbar.Colorbar at 0x7fbd37fe3ac8>"
     },
     "execution_count": 39,
     "metadata": {},
     "output_type": "execute_result"
    },
    {
     "data": {
      "text/plain": "<Figure size 1440x1800 with 6 Axes>",
      "image/png": "[encoded data removed]"
     },
     "metadata": {
      "needs_background": "light"
     },
     "output_type": "display_data"
    }
   ],
   "source": [
    "tj = 4\n",
    "fig1 = plt.figure(figsize=(20,25))\n",
    "scaler = 50\n",
    "\n",
    "ax1 = fig1.add_subplot(4,2,1)\n",
    "pos1 = ax1.imshow(vel,extent=(-1,1,-1,1))\n",
    "ax1.set_title('velocity', fontsize=20)\n",
    "plt.xticks([-1,1])\n",
    "plt.yticks([-1,1])\n",
    "plt.colorbar(pos1)\n",
    "\n",
    "ax2 = fig1.add_subplot(4,2,2)\n",
    "pos2 = ax2.imshow(u0,extent=(-1,1,-1,1))\n",
    "ax2.set_title('init. condition', fontsize=20)\n",
    "plt.xticks([-1,1])\n",
    "plt.yticks([-1,1])\n",
    "plt.colorbar(pos2)\n",
    "\n",
    "# ax3 = fig1.add_subplot(4,2,3)\n",
    "# pos3 = ax3.imshow(wave_util.WaveEnergyField(unn2[:,:,tj].detach().numpy(),unn2[:,:,tj].detach().numpy(),vel.detach().numpy(),dx)*dx*dx)\n",
    "# ax3.set_title('fine 128^2', fontsize=20)\n",
    "# plt.colorbar(pos1)#,ticks = [0,0.002,0.005])\n",
    "\n",
    "#\n",
    "ax4 = fig1.add_subplot(4,2,4)\n",
    "pos4 = ax4.imshow(wave_util.WaveEnergyField(uf[:,:,tj],utf[:,:,tj],vel,dx)*dx*dx,vmax=.005,extent=(-1,1,-1,1))\n",
    "ax4.set_title('coarse 64^2', fontsize=20)\n",
    "plt.colorbar(pos4)#,ticks = [0,0.002,0.005])\n",
    "#\n",
    "# ax5 = fig1.add_subplot(4,2,5)\n",
    "# pos5 = ax5.imshow(wave_util.WaveEnergyField(unn1[tj,:,:],utnn1[tj,:,:],vel,dx)*dx*dx*scaler,vmax=.005,extent=(-1,1,-1,1))\n",
    "# ax5.set_title(r'unet 3lvl $\\Delta t^*=0.2$', fontsize=20)\n",
    "# plt.xticks([-1,1])\n",
    "# plt.yticks([-1,1])\n",
    "# plt.plot([-0.5,0.4],[0.45,0.85],'r',linewidth=4)\n",
    "# plt.plot([0.,0.],[0.,0.4],'w',linewidth=4)\n",
    "# plt.plot([0.,-0.2],[0.4,0.84],'w',linewidth=4)\n",
    "# plt.colorbar(pos5,ticks = [0,0.002,0.005])\n",
    "#\n",
    "# ax6 = fig1.add_subplot(4,2,6)\n",
    "# pos6 = ax6.imshow(wave_util.WaveEnergyField(unn2[:,:,tj],utnn2[:,:,tj],vel,dx)*dx*dx*scaler,vmax=0.005,extent=(-1,1,-1,1))\n",
    "# ax6.set_title(r'unet 6lvl $\\Delta t^*=0.2$', fontsize=20)\n",
    "# plt.xticks([-1,1])\n",
    "# plt.yticks([-1,1])\n",
    "# plt.plot([-0.5,0.4],[0.45,0.85],'r',linewidth=4)\n",
    "# plt.plot([0.,0.],[0.,0.4],'w',linewidth=4)\n",
    "# plt.plot([0.,-0.2],[0.4,0.84],'w',linewidth=4)\n",
    "# plt.colorbar(pos6, ticks = [0,0.002,0.005])"
   ],
   "metadata": {
    "collapsed": false
   }
  },
  {
   "cell_type": "code",
   "execution_count": null,
   "outputs": [],
   "source": [],
   "metadata": {
    "collapsed": false
   }
  },
  {
   "cell_type": "code",
   "execution_count": null,
   "outputs": [],
   "source": [
    "# compare wave energy norm errors:\n",
    "\n",
    "from sklearn.metrics import mean_squared_error, mean_absolute_error\n",
    "from tabulate import tabulate\n",
    "\n",
    "table = [[\"snapshot\", \"MSE unet3\", \"MSE unet6\", \"MSE tiramisu\", \"MSE u_transform\"]]\n",
    "# table = [[\"snapshot\", \"MAE unet3\", \"MAE unet6\", \"MAE tiramisu\", \"MAE u_transform\"]]\n",
    "\n",
    "for it in range(1,10):\n",
    "    wf = wave_util.WaveEnergyField(uf[:,:,it], utf[:,:,it], vel, dx)*dx*dx\n",
    "    w1 = wave_util.WaveEnergyField(unn1[it,:,:], utnn1[it,:,:], vel, dx)*dx*dx\n",
    "    w2 = wave_util.WaveEnergyField(unn2[:,:,it], utnn2[:,:,it], vel, dx)*dx*dx\n",
    "\n",
    "    # mae1 = mean_absolute_error(wf, w1)\n",
    "    # mae2 = mean_absolute_error(wf, w2)\n",
    "    # mae3 = mean_absolute_error(wf, w3)\n",
    "    # mae4 = mean_absolute_error(wf, w4)\n",
    "\n",
    "    mse1 = mean_squared_error(wf, w1)\n",
    "    mse2 = mean_squared_error(wf, w2)\n",
    "\n",
    "    table.append([it, mse1, mse2])\n",
    "    #table.append([it, mae1, mae2, mae3, mae4])\n",
    "\n",
    "print(tabulate(table, headers='firstrow', tablefmt='fancy_grid'))"
   ],
   "metadata": {
    "collapsed": false
   }
  },
  {
   "cell_type": "code",
   "execution_count": 7,
   "outputs": [],
   "source": [],
   "metadata": {
    "collapsed": false
   }
  },
  {
   "cell_type": "code",
   "execution_count": null,
   "outputs": [],
   "source": [],
   "metadata": {
    "collapsed": false
   }
  },
  {
   "cell_type": "code",
   "execution_count": null,
   "outputs": [],
   "source": [],
   "metadata": {
    "collapsed": false
   }
  },
  {
   "cell_type": "code",
   "execution_count": null,
   "outputs": [],
   "source": [],
   "metadata": {
    "collapsed": false
   }
  },
  {
   "cell_type": "code",
   "execution_count": null,
   "outputs": [],
   "source": [],
   "metadata": {
    "collapsed": false
   }
  },
  {
   "cell_type": "code",
   "execution_count": null,
   "outputs": [],
   "source": [],
   "metadata": {
    "collapsed": false
   }
  }
 ],
 "metadata": {
  "kernelspec": {
   "display_name": "Python 3",
   "language": "python",
   "name": "python3"
  },
  "language_info": {
   "codemirror_mode": {
    "name": "ipython",
    "version": 3
   },
   "file_extension": ".py",
   "mimetype": "text/x-python",
   "name": "python",
   "nbconvert_exporter": "python",
   "pygments_lexer": "ipython3",
   "version": "3.6.13"
  }
 },
 "nbformat": 4,
 "nbformat_minor": 2
}
