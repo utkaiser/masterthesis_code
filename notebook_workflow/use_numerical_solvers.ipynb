{
 "cells": [
  {
   "cell_type": "markdown",
   "source": [
    "# Numerical Solvers"
   ],
   "metadata": {
    "collapsed": false
   }
  },
  {
   "cell_type": "markdown",
   "source": [
    "This notebook explains how to use the numerical solvers of the masters thesis \"Wave propagation aided by Deep Learning\" by Luis Kaiser, supervised by Prof. Tsai (University of Texas Austin) and Prof. Klingenberg (University of Wuerzburg), in practice. More information about the algorithm can be found in my [code](https://github.com/utkaiser/masterthesis_code) or [writeup](https://github.com/utkaiser/masterthesis_writing)."
   ],
   "metadata": {
    "collapsed": false
   }
  },
  {
   "cell_type": "markdown",
   "source": [
    "First, install all necessary libraries specified in `requirements.txt` using `pip` or `pip3` depending on your setup by running the command below."
   ],
   "metadata": {
    "collapsed": false
   }
  },
  {
   "cell_type": "code",
   "execution_count": null,
   "outputs": [],
   "source": [
    "!pip3 install --upgrade pip\n",
    "!pip3 install -r requirements.txt"
   ],
   "metadata": {
    "collapsed": false
   }
  },
  {
   "cell_type": "markdown",
   "source": [
    "Generally, the velocity Verlet algorithm and the Runge-Kutta 4 algorithm are used to advance a two-dimensional wave field in a complex medium. By running the code below, we deploy one of the solvers for 10 time steps starting with an initial Gaussian pulse. This setup solves the wave equation with periodic boundary conditions. For absorbing boundary conditions, small modifications have to be made: First use the `velocity_verlet_tensor` implementation and use the parameter `boundary_c = absorbing`. Then, change the inputs `u, ut` to the function `velocity_verlet_tensor` to `torch.Tensor`."
   ],
   "metadata": {
    "collapsed": false
   }
  },
  {
   "cell_type": "code",
   "execution_count": null,
   "outputs": [],
   "source": [
    "import matplotlib.pyplot as plt\n",
    "from generate_data.initial_conditions import initial_condition_gaussian\n",
    "import numpy as np\n",
    "from generate_data.change_wave_arguments import WaveEnergyField\n",
    "from generate_data.wave_propagation import pseudo_spectral, velocity_verlet\n",
    "\n",
    "\n",
    "def get_velocity_model(\n",
    "        data_path,\n",
    "        visualize = True\n",
    "):\n",
    "    '''\n",
    "\n",
    "    Parameters\n",
    "    ----------\n",
    "    data_path : (string) path to velocity profile crops\n",
    "    visualize : (boolean) whether to visualize data\n",
    "\n",
    "    Returns\n",
    "    -------\n",
    "    (numpy array) single velocity profile\n",
    "    '''\n",
    "\n",
    "    # choose first velocity profile out of list of velocity crops\n",
    "    vel = np.load(data_path)['wavespeedlist'].squeeze()[0]\n",
    "\n",
    "    if visualize:\n",
    "        plt.axis(\"off\")\n",
    "        plt.imshow(vel)\n",
    "        plt.show()\n",
    "        plt.title(\"Velocity profile\")\n",
    "\n",
    "    return vel\n",
    "\n",
    "\n",
    "def visualize_numerical_solver_periodic(\n",
    "        vel_data_path = \"../data/velocity_profiles/crops_bp_m_200_256.npz\",\n",
    "        method = \"pseudo-spectral\",\n",
    "        res = 256,\n",
    "        dx = 2./128.,\n",
    "        dt = 1/600.,\n",
    "        dt_star = .06\n",
    "):\n",
    "    '''\n",
    "    Parameters\n",
    "    ----------\n",
    "    vel_data_path : (string) path to velocity profile crops\n",
    "    method : (string) \"pseudo-spectral\" or \"velocity-verlet\"\n",
    "    res : (int) dimensionality of the input\n",
    "    dx : (float) spatial step size numerical solver\n",
    "    dt : (float) temporal step size numerical solver\n",
    "    dt_star : (float) time interval the solver is applied once\n",
    "\n",
    "    Returns\n",
    "    -------\n",
    "    10 advancements of timestep dt_star with periodic boundary conditions\n",
    "    '''\n",
    "\n",
    "    print(f\"Advancement of two-dimensional wave fields using {method}:\")\n",
    "\n",
    "    vel = get_velocity_model(vel_data_path)\n",
    "\n",
    "    # computing initial condition using gaussian pulse (switch to pytorch tensor if needed)\n",
    "    u, ut = initial_condition_gaussian(\n",
    "        vel,\n",
    "        resolution=res,\n",
    "        boundary_condition=\"periodic\",\n",
    "        mode=\"physical_components\",\n",
    "        optimization=\"none\",\n",
    "        res_padded=res\n",
    "    )\n",
    "\n",
    "    for s in range(10):\n",
    "\n",
    "        # run one iteration of the RK4 / velocity Verlet method for time dt_star and step size dx, time increment dt\n",
    "        if method == \"pseudo-spectral\":\n",
    "            u, ut = pseudo_spectral(u, ut, vel, dx, dt, dt_star)\n",
    "        else:  # method == \"velocity_verlet\"\n",
    "            u, ut = velocity_verlet(u, ut, vel, dx, dt, dt_star)\n",
    "\n",
    "        # change representation to energy semi-norm\n",
    "        w = WaveEnergyField(u,ut,vel, dx)\n",
    "\n",
    "        # visualize results\n",
    "        plt.axis(\"off\")\n",
    "        plt.imshow(w)\n",
    "        plt.title(f\"wave field for iteration {s}\")\n",
    "        plt.show()\n",
    "\n",
    "\n",
    "if __name__ == '__main__':\n",
    "    visualize_numerical_solver_periodic()"
   ],
   "metadata": {
    "collapsed": false
   }
  },
  {
   "cell_type": "code",
   "execution_count": null,
   "outputs": [],
   "source": [],
   "metadata": {
    "collapsed": false
   }
  }
 ],
 "metadata": {
  "kernelspec": {
   "display_name": "Python 3",
   "language": "python",
   "name": "python3"
  },
  "language_info": {
   "codemirror_mode": {
    "name": "ipython",
    "version": 2
   },
   "file_extension": ".py",
   "mimetype": "text/x-python",
   "name": "python",
   "nbconvert_exporter": "python",
   "pygments_lexer": "ipython2",
   "version": "2.7.6"
  }
 },
 "nbformat": 4,
 "nbformat_minor": 0
}
