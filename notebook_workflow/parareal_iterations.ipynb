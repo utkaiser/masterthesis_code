{
 "cells": [
  {
   "cell_type": "markdown",
   "source": [
    "# Parareal Iterations"
   ],
   "metadata": {
    "collapsed": false
   }
  },
  {
   "cell_type": "code",
   "execution_count": null,
   "outputs": [],
   "source": [],
   "metadata": {
    "collapsed": false,
    "pycharm": {
     "is_executing": true
    }
   }
  },
  {
   "cell_type": "code",
   "execution_count": null,
   "outputs": [],
   "source": [],
   "metadata": {
    "collapsed": false
   }
  },
  {
   "cell_type": "code",
   "execution_count": 1,
   "outputs": [
    {
     "ename": "FileNotFoundError",
     "evalue": "[Errno 2] No such file or directory: '../results/run_3/good/saved_model_Interpolation_UNet3_AdamW_SmoothL1Loss_2_128_False_15.pt'",
     "output_type": "error",
     "traceback": [
      "\u001B[0;31m---------------------------------------------------------------------------\u001B[0m",
      "\u001B[0;31mFileNotFoundError\u001B[0m                         Traceback (most recent call last)",
      "\u001B[0;32m<ipython-input-1-f004b6ed9c6d>\u001B[0m in \u001B[0;36m<module>\u001B[0;34m\u001B[0m\n\u001B[1;32m     39\u001B[0m                                        param_dict[\"delta_t_star\"])\n\u001B[1;32m     40\u001B[0m \u001B[0;34m\u001B[0m\u001B[0m\n\u001B[0;32m---> 41\u001B[0;31m \u001B[0mget_parareal_solutions\u001B[0m\u001B[0;34m(\u001B[0m\u001B[0;34m)\u001B[0m\u001B[0;34m\u001B[0m\u001B[0m\n\u001B[0m\u001B[1;32m     42\u001B[0m \u001B[0;34m\u001B[0m\u001B[0m\n\u001B[1;32m     43\u001B[0m \u001B[0;34m\u001B[0m\u001B[0m\n",
      "\u001B[0;32m<ipython-input-1-f004b6ed9c6d>\u001B[0m in \u001B[0;36mget_parareal_solutions\u001B[0;34m(vel_data_path, res, res_padded, n_it)\u001B[0m\n\u001B[1;32m     20\u001B[0m         \u001B[0mparam_dict\u001B[0m \u001B[0;34m=\u001B[0m \u001B[0mparam_dict\u001B[0m\u001B[0;34m,\u001B[0m\u001B[0;34m\u001B[0m\u001B[0m\n\u001B[1;32m     21\u001B[0m         \u001B[0mres_scaler\u001B[0m \u001B[0;34m=\u001B[0m \u001B[0;36m2\u001B[0m\u001B[0;34m,\u001B[0m\u001B[0;34m\u001B[0m\u001B[0m\n\u001B[0;32m---> 22\u001B[0;31m         \u001B[0mmodel_res\u001B[0m \u001B[0;34m=\u001B[0m \u001B[0;36m256\u001B[0m\u001B[0;34m,\u001B[0m\u001B[0;34m\u001B[0m\u001B[0m\n\u001B[0m\u001B[1;32m     23\u001B[0m     )\n\u001B[1;32m     24\u001B[0m     \u001B[0mvel\u001B[0m \u001B[0;34m=\u001B[0m \u001B[0mget_velocity_model\u001B[0m\u001B[0;34m(\u001B[0m\u001B[0mvel_data_path\u001B[0m\u001B[0;34m)\u001B[0m\u001B[0;34m\u001B[0m\u001B[0m\n",
      "\u001B[0;32m~/Documents/studies/master/master_thesis/code/models/model_end_to_end.py\u001B[0m in \u001B[0;36mget_model\u001B[0;34m(param_dict, res_scaler, model_res, down_sampling_component, up_sampling_component, model_path)\u001B[0m\n\u001B[1;32m    103\u001B[0m     \u001B[0mmodel\u001B[0m \u001B[0;34m=\u001B[0m \u001B[0mModel_end_to_end\u001B[0m\u001B[0;34m(\u001B[0m\u001B[0mparam_dict\u001B[0m\u001B[0;34m,\u001B[0m \u001B[0mdown_sampling_component\u001B[0m\u001B[0;34m,\u001B[0m \u001B[0mup_sampling_component\u001B[0m\u001B[0;34m,\u001B[0m \u001B[0mres_scaler\u001B[0m\u001B[0;34m,\u001B[0m \u001B[0mmodel_res\u001B[0m\u001B[0;34m)\u001B[0m\u001B[0;34m.\u001B[0m\u001B[0mdouble\u001B[0m\u001B[0;34m(\u001B[0m\u001B[0;34m)\u001B[0m\u001B[0;34m\u001B[0m\u001B[0m\n\u001B[1;32m    104\u001B[0m     \u001B[0mmodel\u001B[0m \u001B[0;34m=\u001B[0m \u001B[0mtorch\u001B[0m\u001B[0;34m.\u001B[0m\u001B[0mnn\u001B[0m\u001B[0;34m.\u001B[0m\u001B[0mDataParallel\u001B[0m\u001B[0;34m(\u001B[0m\u001B[0mmodel\u001B[0m\u001B[0;34m)\u001B[0m\u001B[0;34m.\u001B[0m\u001B[0mto\u001B[0m\u001B[0;34m(\u001B[0m\u001B[0mdevice\u001B[0m\u001B[0;34m)\u001B[0m  \u001B[0;31m# multi-GPU use\u001B[0m\u001B[0;34m\u001B[0m\u001B[0m\n\u001B[0;32m--> 105\u001B[0;31m     \u001B[0mmodel\u001B[0m\u001B[0;34m.\u001B[0m\u001B[0mload_state_dict\u001B[0m\u001B[0;34m(\u001B[0m\u001B[0mtorch\u001B[0m\u001B[0;34m.\u001B[0m\u001B[0mload\u001B[0m\u001B[0;34m(\u001B[0m\u001B[0mmodel_path\u001B[0m\u001B[0;34m)\u001B[0m\u001B[0;34m)\u001B[0m\u001B[0;34m\u001B[0m\u001B[0m\n\u001B[0m\u001B[1;32m    106\u001B[0m \u001B[0;34m\u001B[0m\u001B[0m\n\u001B[1;32m    107\u001B[0m     \u001B[0;32mreturn\u001B[0m \u001B[0mmodel\u001B[0m\u001B[0;34m\u001B[0m\u001B[0m\n",
      "\u001B[0;32m/Library/Frameworks/Python.framework/Versions/3.6/lib/python3.6/site-packages/torch/serialization.py\u001B[0m in \u001B[0;36mload\u001B[0;34m(f, map_location, pickle_module, **pickle_load_args)\u001B[0m\n\u001B[1;32m    592\u001B[0m         \u001B[0mpickle_load_args\u001B[0m\u001B[0;34m[\u001B[0m\u001B[0;34m'encoding'\u001B[0m\u001B[0;34m]\u001B[0m \u001B[0;34m=\u001B[0m \u001B[0;34m'utf-8'\u001B[0m\u001B[0;34m\u001B[0m\u001B[0m\n\u001B[1;32m    593\u001B[0m \u001B[0;34m\u001B[0m\u001B[0m\n\u001B[0;32m--> 594\u001B[0;31m     \u001B[0;32mwith\u001B[0m \u001B[0m_open_file_like\u001B[0m\u001B[0;34m(\u001B[0m\u001B[0mf\u001B[0m\u001B[0;34m,\u001B[0m \u001B[0;34m'rb'\u001B[0m\u001B[0;34m)\u001B[0m \u001B[0;32mas\u001B[0m \u001B[0mopened_file\u001B[0m\u001B[0;34m:\u001B[0m\u001B[0;34m\u001B[0m\u001B[0m\n\u001B[0m\u001B[1;32m    595\u001B[0m         \u001B[0;32mif\u001B[0m \u001B[0m_is_zipfile\u001B[0m\u001B[0;34m(\u001B[0m\u001B[0mopened_file\u001B[0m\u001B[0;34m)\u001B[0m\u001B[0;34m:\u001B[0m\u001B[0;34m\u001B[0m\u001B[0m\n\u001B[1;32m    596\u001B[0m             \u001B[0;31m# The zipfile reader is going to advance the current file position.\u001B[0m\u001B[0;34m\u001B[0m\u001B[0;34m\u001B[0m\u001B[0m\n",
      "\u001B[0;32m/Library/Frameworks/Python.framework/Versions/3.6/lib/python3.6/site-packages/torch/serialization.py\u001B[0m in \u001B[0;36m_open_file_like\u001B[0;34m(name_or_buffer, mode)\u001B[0m\n\u001B[1;32m    228\u001B[0m \u001B[0;32mdef\u001B[0m \u001B[0m_open_file_like\u001B[0m\u001B[0;34m(\u001B[0m\u001B[0mname_or_buffer\u001B[0m\u001B[0;34m,\u001B[0m \u001B[0mmode\u001B[0m\u001B[0;34m)\u001B[0m\u001B[0;34m:\u001B[0m\u001B[0;34m\u001B[0m\u001B[0m\n\u001B[1;32m    229\u001B[0m     \u001B[0;32mif\u001B[0m \u001B[0m_is_path\u001B[0m\u001B[0;34m(\u001B[0m\u001B[0mname_or_buffer\u001B[0m\u001B[0;34m)\u001B[0m\u001B[0;34m:\u001B[0m\u001B[0;34m\u001B[0m\u001B[0m\n\u001B[0;32m--> 230\u001B[0;31m         \u001B[0;32mreturn\u001B[0m \u001B[0m_open_file\u001B[0m\u001B[0;34m(\u001B[0m\u001B[0mname_or_buffer\u001B[0m\u001B[0;34m,\u001B[0m \u001B[0mmode\u001B[0m\u001B[0;34m)\u001B[0m\u001B[0;34m\u001B[0m\u001B[0m\n\u001B[0m\u001B[1;32m    231\u001B[0m     \u001B[0;32melse\u001B[0m\u001B[0;34m:\u001B[0m\u001B[0;34m\u001B[0m\u001B[0m\n\u001B[1;32m    232\u001B[0m         \u001B[0;32mif\u001B[0m \u001B[0;34m'w'\u001B[0m \u001B[0;32min\u001B[0m \u001B[0mmode\u001B[0m\u001B[0;34m:\u001B[0m\u001B[0;34m\u001B[0m\u001B[0m\n",
      "\u001B[0;32m/Library/Frameworks/Python.framework/Versions/3.6/lib/python3.6/site-packages/torch/serialization.py\u001B[0m in \u001B[0;36m__init__\u001B[0;34m(self, name, mode)\u001B[0m\n\u001B[1;32m    209\u001B[0m \u001B[0;32mclass\u001B[0m \u001B[0m_open_file\u001B[0m\u001B[0;34m(\u001B[0m\u001B[0m_opener\u001B[0m\u001B[0;34m)\u001B[0m\u001B[0;34m:\u001B[0m\u001B[0;34m\u001B[0m\u001B[0m\n\u001B[1;32m    210\u001B[0m     \u001B[0;32mdef\u001B[0m \u001B[0m__init__\u001B[0m\u001B[0;34m(\u001B[0m\u001B[0mself\u001B[0m\u001B[0;34m,\u001B[0m \u001B[0mname\u001B[0m\u001B[0;34m,\u001B[0m \u001B[0mmode\u001B[0m\u001B[0;34m)\u001B[0m\u001B[0;34m:\u001B[0m\u001B[0;34m\u001B[0m\u001B[0m\n\u001B[0;32m--> 211\u001B[0;31m         \u001B[0msuper\u001B[0m\u001B[0;34m(\u001B[0m\u001B[0m_open_file\u001B[0m\u001B[0;34m,\u001B[0m \u001B[0mself\u001B[0m\u001B[0;34m)\u001B[0m\u001B[0;34m.\u001B[0m\u001B[0m__init__\u001B[0m\u001B[0;34m(\u001B[0m\u001B[0mopen\u001B[0m\u001B[0;34m(\u001B[0m\u001B[0mname\u001B[0m\u001B[0;34m,\u001B[0m \u001B[0mmode\u001B[0m\u001B[0;34m)\u001B[0m\u001B[0;34m)\u001B[0m\u001B[0;34m\u001B[0m\u001B[0m\n\u001B[0m\u001B[1;32m    212\u001B[0m \u001B[0;34m\u001B[0m\u001B[0m\n\u001B[1;32m    213\u001B[0m     \u001B[0;32mdef\u001B[0m \u001B[0m__exit__\u001B[0m\u001B[0;34m(\u001B[0m\u001B[0mself\u001B[0m\u001B[0;34m,\u001B[0m \u001B[0;34m*\u001B[0m\u001B[0margs\u001B[0m\u001B[0;34m)\u001B[0m\u001B[0;34m:\u001B[0m\u001B[0;34m\u001B[0m\u001B[0m\n",
      "\u001B[0;31mFileNotFoundError\u001B[0m: [Errno 2] No such file or directory: '../results/run_3/good/saved_model_Interpolation_UNet3_AdamW_SmoothL1Loss_2_128_False_15.pt'"
     ]
    }
   ],
   "source": [
    "from generate_data.initial_conditions import initial_condition_gaussian\n",
    "from notebook_workflow.utils import get_velocity_model, pseudo_spectral_solutions\n",
    "import sys\n",
    "from models.model_end_to_end import get_model\n",
    "sys.path.append(\"..\")\n",
    "from generate_data.utils_wave_propagate import one_iteration_pseudo_spectral_tensor\n",
    "import torch\n",
    "device = torch.device(\"cuda\" if torch.cuda.is_available() else \"cpu\")\n",
    "from parareal.param_settings import get_paths, get_params\n",
    "\n",
    "\n",
    "def get_parareal_solutions(\n",
    "        vel_data_path = \"../data/velocity_profiles/crops_bp_m_200_256.npz\",\n",
    "        res = 256,\n",
    "        res_padded = 256,\n",
    "        n_it = 10\n",
    "):\n",
    "    param_dict = get_params(\"0\")\n",
    "    model = get_model(\n",
    "        param_dict = param_dict,\n",
    "        res_scaler = 2,\n",
    "        model_res = 256,\n",
    "    )\n",
    "    vel = get_velocity_model(vel_data_path)\n",
    "\n",
    "    # computing initial condition using gaussian pulse (switch to pytorch tensor if needed)\n",
    "    u, ut = initial_condition_gaussian(\n",
    "        vel,\n",
    "        resolution=res,\n",
    "        boundary_condition=\"periodic\",\n",
    "        mode=\"physical_components\",\n",
    "        optimization=\"none\",\n",
    "        res_padded=res\n",
    "    )\n",
    "\n",
    "    ps_sol_tensor = pseudo_spectral_solutions(u, ut, vel, n_it,\n",
    "                                       param_dict[\"f_delta_x\"],\n",
    "                                       param_dict[\"f_delta_t\"],\n",
    "                                       param_dict[\"delta_t_star\"])\n",
    "\n",
    "get_parareal_solutions()\n",
    "\n",
    "\n",
    "def parareal_scheme(\n",
    "        model,\n",
    "        u_0,\n",
    "        n_parareal,\n",
    "        n_snapshots\n",
    "):\n",
    "\n",
    "    '''\n",
    "    Parameters\n",
    "    ----------\n",
    "    model : (pytorch.Model) end-to-end model to advance a wave front\n",
    "    u_0 : (pytorch tensor) input wave field\n",
    "    label : (pytorch tensor) output wave field (one iteration with length dt_star of end-to-end model)\n",
    "    n_parareal : (int) number of parareal iterations\n",
    "    n_snapshots : (int) number of iterations (number of iterations with length dt_star)\n",
    "\n",
    "    Returns\n",
    "    -------\n",
    "    one iteration of Parareal according to formula in thesis\n",
    "    '''\n",
    "\n",
    "    u_n = u_0.clone()\n",
    "    vel = u_n[:,3].clone().unsqueeze(dim=1)\n",
    "    batch_size, channel, width, height = u_n.shape\n",
    "    big_tensor = torch.zeros([n_snapshots, batch_size, channel - 1, width, height])\n",
    "\n",
    "    # initial guess, first iteration without parareal\n",
    "    for n in range(n_snapshots-1):\n",
    "        u_n1 = model(u_n)\n",
    "        big_tensor[n+1] = u_n1\n",
    "        u_n = torch.cat((u_n1, vel), dim=1)\n",
    "\n",
    "    # parareal iterations: k = 1, 2, 3, 4\n",
    "    for k in range(1,n_parareal+1):\n",
    "        print(k)\n",
    "\n",
    "        big_tensor[0] = u_0[:, :3].clone()\n",
    "        parareal_terms = get_parareal_terms(model.to(device), big_tensor.to(device).clone().detach(), n_snapshots, vel.to(device).clone().detach()) # n_snapshots x b x c x w x h\n",
    "        new_big_tensor = torch.zeros([n_snapshots, batch_size, channel - 1, width, height])\n",
    "        new_big_tensor[0] = u_0[:, :3].clone()\n",
    "\n",
    "        for n in range(n_snapshots-1):\n",
    "            u_n_k1 = torch.cat((new_big_tensor[n].to(device), vel.to(device)), dim=1).to(device)\n",
    "            u_n1_k1 = model(u_n_k1) + parareal_terms[n].to(device)\n",
    "            new_big_tensor[n+1] = u_n1_k1\n",
    "\n",
    "        big_tensor = new_big_tensor.clone().detach()\n",
    "\n",
    "\n",
    "def get_parareal_terms(\n",
    "        model,\n",
    "        big_pseudo_tensor,\n",
    "        n_snapshots,\n",
    "        vel\n",
    "):\n",
    "    '''\n",
    "    Parameters\n",
    "    ----------\n",
    "    model : (pytorch.Model) end-to-end model to advance a wave front\n",
    "    big_pseudo_tensor : (pytorch tensor) tensor containing previous solution (high resolution due to pseudo-spectral cropping)\n",
    "    n_snapshots : (int) number of iterations (number of iterations with length dt_star)\n",
    "    vel : (pytorch tensor) velocity profile\n",
    "\n",
    "    Returns\n",
    "    -------\n",
    "    get Parareal terms that can be computed in parallel\n",
    "    '''\n",
    "\n",
    "    model.eval()\n",
    "    with torch.no_grad():\n",
    "        parareal_terms = torch.zeros(big_pseudo_tensor.shape)\n",
    "        for s in range(n_snapshots):\n",
    "            parareal_terms[s] = compute_parareal_term(model, torch.cat([big_pseudo_tensor[s], vel], dim=1))\n",
    "    model.train()\n",
    "    return parareal_terms\n",
    "\n",
    "\n",
    "def compute_parareal_term(\n",
    "        model,\n",
    "        u_n_k\n",
    "):\n",
    "    '''\n",
    "    Parameters\n",
    "    ----------\n",
    "    model : (pytorch.Model) end-to-end model to advance a wave front\n",
    "    u_n_k : (pytorch tensor) current wave field\n",
    "\n",
    "    Returns\n",
    "    -------\n",
    "    difference between Parareal terms of right-hand side of main Parareal equation (see thesis)\n",
    "    '''\n",
    "\n",
    "    res_fine_solver = one_iteration_pseudo_spectral_tensor(u_n_k)  # one_iteration_velocity_verlet(u_n_k)\n",
    "    res_model = model(u_n_k)  # procrustes_optimization(model(u_n_k), res_fine_solver)\n",
    "\n",
    "    return res_fine_solver.to(device) - res_model.to(device)"
   ],
   "metadata": {
    "collapsed": false
   }
  },
  {
   "cell_type": "code",
   "execution_count": null,
   "outputs": [],
   "source": [],
   "metadata": {
    "collapsed": false
   }
  },
  {
   "cell_type": "code",
   "execution_count": null,
   "outputs": [],
   "source": [],
   "metadata": {
    "collapsed": false
   }
  },
  {
   "cell_type": "code",
   "execution_count": null,
   "outputs": [],
   "source": [],
   "metadata": {
    "collapsed": false
   }
  }
 ],
 "metadata": {
  "kernelspec": {
   "display_name": "Python 3",
   "language": "python",
   "name": "python3"
  },
  "language_info": {
   "codemirror_mode": {
    "name": "ipython",
    "version": 2
   },
   "file_extension": ".py",
   "mimetype": "text/x-python",
   "name": "python",
   "nbconvert_exporter": "python",
   "pygments_lexer": "ipython2",
   "version": "2.7.6"
  }
 },
 "nbformat": 4,
 "nbformat_minor": 0
}
